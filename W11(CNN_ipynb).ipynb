{
  "nbformat": 4,
  "nbformat_minor": 0,
  "metadata": {
    "colab": {
      "provenance": [],
      "include_colab_link": true
    },
    "kernelspec": {
      "name": "python3",
      "display_name": "Python 3"
    },
    "language_info": {
      "name": "python"
    },
    "accelerator": "GPU",
    "gpuClass": "standard"
  },
  "cells": [
    {
      "cell_type": "markdown",
      "metadata": {
        "id": "view-in-github",
        "colab_type": "text"
      },
      "source": [
        "<a href=\"https://colab.research.google.com/github/vogiahuan352/w11.ipynb/blob/main/W11(CNN_ipynb).ipynb\" target=\"_parent\"><img src=\"https://colab.research.google.com/assets/colab-badge.svg\" alt=\"Open In Colab\"/></a>"
      ]
    },
    {
      "cell_type": "code",
      "execution_count": null,
      "metadata": {
        "id": "NG1mQZBphG1o"
      },
      "outputs": [],
      "source": [
        "from keras.datasets import fashion_mnist\n",
        "import matplotlib.pyplot as plt\n",
        "\n"
      ]
    },
    {
      "cell_type": "code",
      "source": [
        "\n",
        "(train_X, train_Y),(test_X, test_Y) = fashion_mnist.load_data()"
      ],
      "metadata": {
        "colab": {
          "base_uri": "https://localhost:8080/"
        },
        "id": "BlLeaNDriHs0",
        "outputId": "cfbc2dac-d783-4bd5-c856-b0ce0e35d8e9"
      },
      "execution_count": null,
      "outputs": [
        {
          "output_type": "stream",
          "name": "stdout",
          "text": [
            "Downloading data from https://storage.googleapis.com/tensorflow/tf-keras-datasets/train-labels-idx1-ubyte.gz\n",
            "29515/29515 [==============================] - 0s 1us/step\n",
            "Downloading data from https://storage.googleapis.com/tensorflow/tf-keras-datasets/train-images-idx3-ubyte.gz\n",
            "26421880/26421880 [==============================] - 2s 0us/step\n",
            "Downloading data from https://storage.googleapis.com/tensorflow/tf-keras-datasets/t10k-labels-idx1-ubyte.gz\n",
            "5148/5148 [==============================] - 0s 0us/step\n",
            "Downloading data from https://storage.googleapis.com/tensorflow/tf-keras-datasets/t10k-images-idx3-ubyte.gz\n",
            "4422102/4422102 [==============================] - 1s 0us/step\n"
          ]
        }
      ]
    },
    {
      "cell_type": "code",
      "source": [
        "train_X = train_X.reshape(60000, 28 ,28, 1)"
      ],
      "metadata": {
        "id": "GDd6M95jicOJ"
      },
      "execution_count": null,
      "outputs": []
    },
    {
      "cell_type": "code",
      "source": [
        "train_X.shape"
      ],
      "metadata": {
        "colab": {
          "base_uri": "https://localhost:8080/"
        },
        "id": "otAyESNXi5LO",
        "outputId": "520b6a1f-692b-4266-ebcf-af5bd7e58e40"
      },
      "execution_count": null,
      "outputs": [
        {
          "output_type": "execute_result",
          "data": {
            "text/plain": [
              "(60000, 28, 28, 1)"
            ]
          },
          "metadata": {},
          "execution_count": 5
        }
      ]
    },
    {
      "cell_type": "code",
      "source": [
        "test_X.shape"
      ],
      "metadata": {
        "colab": {
          "base_uri": "https://localhost:8080/"
        },
        "id": "rjYBwj5si8gV",
        "outputId": "eeab558b-f4ab-4c2f-ae0b-40506a3cdbed"
      },
      "execution_count": null,
      "outputs": [
        {
          "output_type": "execute_result",
          "data": {
            "text/plain": [
              "(10000, 28, 28)"
            ]
          },
          "metadata": {},
          "execution_count": 6
        }
      ]
    },
    {
      "cell_type": "code",
      "source": [
        "test_Y.shape\n",
        "train_Y.shape"
      ],
      "metadata": {
        "colab": {
          "base_uri": "https://localhost:8080/"
        },
        "id": "SJ5GxCPOi9UE",
        "outputId": "e0866eea-bd35-46f5-a6cb-b7f9eb821116"
      },
      "execution_count": null,
      "outputs": [
        {
          "output_type": "execute_result",
          "data": {
            "text/plain": [
              "(60000,)"
            ]
          },
          "metadata": {},
          "execution_count": 7
        }
      ]
    },
    {
      "cell_type": "code",
      "source": [
        "from keras.utils import to_categorical\n",
        "train_Y = to_categorical(train_Y)\n",
        "test_Y = to_categorical(test_Y)\n",
        "\n",
        "test_Y.shape\n",
        "train_Y.shape\n",
        "\n"
      ],
      "metadata": {
        "colab": {
          "base_uri": "https://localhost:8080/"
        },
        "id": "_xgKDJVMjhKj",
        "outputId": "46f6069d-f486-479a-afc4-a1e42715efb1"
      },
      "execution_count": null,
      "outputs": [
        {
          "output_type": "execute_result",
          "data": {
            "text/plain": [
              "(60000, 10)"
            ]
          },
          "metadata": {},
          "execution_count": 8
        }
      ]
    },
    {
      "cell_type": "code",
      "source": [
        "\n",
        "from keras.models import Sequential\n",
        "from keras.layers import Dense, Dropout, Flatten, Conv2D, MaxPooling2D, Normalization, LeakyReLU\n",
        "from keras.optimizers import Adam\n",
        "from keras import losses\n",
        "\n",
        "\n",
        "batch_size = 64\n",
        "epochs = 20\n",
        "classes = 10\n",
        "loss = losses"
      ],
      "metadata": {
        "id": "V8b6nnJgkrcc"
      },
      "execution_count": null,
      "outputs": []
    },
    {
      "cell_type": "code",
      "source": [
        "model = Sequential()\n",
        "model.add(Conv2D(32, kernel_size = (3, 3), activation = 'linear', input_shape = (28, 28, 1), padding = 'same')) #32 lần tích chập , kernel size 3x3\n",
        "model.add(LeakyReLU(alpha = 0.1)) #1 dạng của bộ lọc\n",
        "model.add(MaxPooling2D((2, 2), padding = 'same')) \n",
        "\n",
        "model.add(Conv2D(64, (3, 3), activation = 'linear', padding = 'same'))\n",
        "model.add(LeakyReLU(alpha = 0.1))\n",
        "model.add(MaxPooling2D((2,2), padding = 'same'))\n",
        "\n",
        "model.add(Conv2D(128, (3, 3), activation = 'linear', padding = 'same'))\n",
        "model.add(LeakyReLU(alpha = 0.1))\n",
        "model.add(MaxPooling2D((2,2), padding = 'same'))\n"
      ],
      "metadata": {
        "id": "Oh__4conmyQk"
      },
      "execution_count": null,
      "outputs": []
    },
    {
      "cell_type": "code",
      "source": [
        "model.add(Flatten()) #chuyển ảnh thành vecto thông qua mạng ANN\n",
        "model.add(Dense(128,activation='linear')) #128 phân lớp ẩn\n",
        "model.add(LeakyReLU(alpha = 0.1))\n",
        "model.add(Dense(classes, activation = 'softmax')) #classes = 10\n",
        "model.summary()"
      ],
      "metadata": {
        "colab": {
          "base_uri": "https://localhost:8080/"
        },
        "id": "F4wzDbpdpWIh",
        "outputId": "1e4e682d-0768-4cc2-ec56-3fc7b90e2451"
      },
      "execution_count": null,
      "outputs": [
        {
          "output_type": "stream",
          "name": "stdout",
          "text": [
            "Model: \"sequential\"\n",
            "_________________________________________________________________\n",
            " Layer (type)                Output Shape              Param #   \n",
            "=================================================================\n",
            " conv2d (Conv2D)             (None, 28, 28, 32)        320       \n",
            "                                                                 \n",
            " leaky_re_lu (LeakyReLU)     (None, 28, 28, 32)        0         \n",
            "                                                                 \n",
            " max_pooling2d (MaxPooling2D  (None, 14, 14, 32)       0         \n",
            " )                                                               \n",
            "                                                                 \n",
            " conv2d_1 (Conv2D)           (None, 14, 14, 64)        18496     \n",
            "                                                                 \n",
            " leaky_re_lu_1 (LeakyReLU)   (None, 14, 14, 64)        0         \n",
            "                                                                 \n",
            " max_pooling2d_1 (MaxPooling  (None, 7, 7, 64)         0         \n",
            " 2D)                                                             \n",
            "                                                                 \n",
            " conv2d_2 (Conv2D)           (None, 7, 7, 128)         73856     \n",
            "                                                                 \n",
            " leaky_re_lu_2 (LeakyReLU)   (None, 7, 7, 128)         0         \n",
            "                                                                 \n",
            " max_pooling2d_2 (MaxPooling  (None, 4, 4, 128)        0         \n",
            " 2D)                                                             \n",
            "                                                                 \n",
            " flatten (Flatten)           (None, 2048)              0         \n",
            "                                                                 \n",
            " dense (Dense)               (None, 128)               262272    \n",
            "                                                                 \n",
            " leaky_re_lu_3 (LeakyReLU)   (None, 128)               0         \n",
            "                                                                 \n",
            " dense_1 (Dense)             (None, 10)                1290      \n",
            "                                                                 \n",
            " flatten_1 (Flatten)         (None, 10)                0         \n",
            "                                                                 \n",
            " dense_2 (Dense)             (None, 128)               1408      \n",
            "                                                                 \n",
            " leaky_re_lu_4 (LeakyReLU)   (None, 128)               0         \n",
            "                                                                 \n",
            " dense_3 (Dense)             (None, 10)                1290      \n",
            "                                                                 \n",
            "=================================================================\n",
            "Total params: 358,932\n",
            "Trainable params: 358,932\n",
            "Non-trainable params: 0\n",
            "_________________________________________________________________\n"
          ]
        }
      ]
    },
    {
      "cell_type": "code",
      "source": [
        "\n",
        "from keras import optimizers\n",
        "model.compile(loss = loss.categorical_crossentropy, optimizer = \"adam\", metrics = ['accuracy'])\n",
        "model.summary()"
      ],
      "metadata": {
        "colab": {
          "base_uri": "https://localhost:8080/"
        },
        "id": "lX9IojmowQRS",
        "outputId": "71653e52-cc33-448b-901c-3d6992ce1f3f"
      },
      "execution_count": null,
      "outputs": [
        {
          "output_type": "stream",
          "name": "stdout",
          "text": [
            "Model: \"sequential\"\n",
            "_________________________________________________________________\n",
            " Layer (type)                Output Shape              Param #   \n",
            "=================================================================\n",
            " conv2d (Conv2D)             (None, 28, 28, 32)        320       \n",
            "                                                                 \n",
            " leaky_re_lu (LeakyReLU)     (None, 28, 28, 32)        0         \n",
            "                                                                 \n",
            " max_pooling2d (MaxPooling2D  (None, 14, 14, 32)       0         \n",
            " )                                                               \n",
            "                                                                 \n",
            " conv2d_1 (Conv2D)           (None, 14, 14, 64)        18496     \n",
            "                                                                 \n",
            " leaky_re_lu_1 (LeakyReLU)   (None, 14, 14, 64)        0         \n",
            "                                                                 \n",
            " max_pooling2d_1 (MaxPooling  (None, 7, 7, 64)         0         \n",
            " 2D)                                                             \n",
            "                                                                 \n",
            " conv2d_2 (Conv2D)           (None, 7, 7, 128)         73856     \n",
            "                                                                 \n",
            " leaky_re_lu_2 (LeakyReLU)   (None, 7, 7, 128)         0         \n",
            "                                                                 \n",
            " max_pooling2d_2 (MaxPooling  (None, 4, 4, 128)        0         \n",
            " 2D)                                                             \n",
            "                                                                 \n",
            " flatten (Flatten)           (None, 2048)              0         \n",
            "                                                                 \n",
            " dense (Dense)               (None, 128)               262272    \n",
            "                                                                 \n",
            " leaky_re_lu_3 (LeakyReLU)   (None, 128)               0         \n",
            "                                                                 \n",
            " dense_1 (Dense)             (None, 10)                1290      \n",
            "                                                                 \n",
            "=================================================================\n",
            "Total params: 356,234\n",
            "Trainable params: 356,234\n",
            "Non-trainable params: 0\n",
            "_________________________________________________________________\n"
          ]
        }
      ]
    },
    {
      "cell_type": "code",
      "source": [
        "model.save"
      ],
      "metadata": {
        "colab": {
          "base_uri": "https://localhost:8080/"
        },
        "id": "374DrE0hsU5c",
        "outputId": "59598bb9-5caf-4a18-ada3-4fdf3e5f308c"
      },
      "execution_count": null,
      "outputs": [
        {
          "output_type": "execute_result",
          "data": {
            "text/plain": [
              "<bound method Model.save of <keras.engine.sequential.Sequential object at 0x7f52ce6bfee0>>"
            ]
          },
          "metadata": {},
          "execution_count": 25
        }
      ]
    },
    {
      "cell_type": "code",
      "source": [
        "train = model.fit(train_X, train_Y, batch_size = batch_size, epochs = epochs, verbose = 1)\n"
      ],
      "metadata": {
        "colab": {
          "base_uri": "https://localhost:8080/"
        },
        "id": "QnFHlTttwrWf",
        "outputId": "3a7fc5b3-7e3e-4ae4-88de-98a5102bacc3"
      },
      "execution_count": null,
      "outputs": [
        {
          "output_type": "stream",
          "name": "stdout",
          "text": [
            "Epoch 1/20\n",
            "938/938 [==============================] - 15s 5ms/step - loss: 2.3036 - accuracy: 0.0997\n",
            "Epoch 2/20\n",
            "938/938 [==============================] - 6s 6ms/step - loss: 2.3033 - accuracy: 0.0991\n",
            "Epoch 3/20\n",
            "938/938 [==============================] - 5s 6ms/step - loss: 2.3032 - accuracy: 0.1002\n",
            "Epoch 4/20\n",
            "938/938 [==============================] - 5s 5ms/step - loss: 2.3032 - accuracy: 0.0981\n",
            "Epoch 5/20\n",
            "938/938 [==============================] - 5s 5ms/step - loss: 2.3032 - accuracy: 0.0993\n",
            "Epoch 6/20\n",
            "938/938 [==============================] - 4s 5ms/step - loss: 2.3031 - accuracy: 0.0984\n",
            "Epoch 7/20\n",
            "938/938 [==============================] - 5s 5ms/step - loss: 2.3030 - accuracy: 0.0985\n",
            "Epoch 8/20\n",
            "938/938 [==============================] - 4s 5ms/step - loss: 2.3030 - accuracy: 0.0984\n",
            "Epoch 9/20\n",
            "938/938 [==============================] - 4s 5ms/step - loss: 2.3029 - accuracy: 0.0993\n",
            "Epoch 10/20\n",
            "938/938 [==============================] - 5s 5ms/step - loss: 2.3028 - accuracy: 0.0986\n",
            "Epoch 11/20\n",
            "938/938 [==============================] - 4s 5ms/step - loss: 2.3028 - accuracy: 0.0988\n",
            "Epoch 12/20\n",
            "938/938 [==============================] - 5s 5ms/step - loss: 2.3028 - accuracy: 0.0997\n",
            "Epoch 13/20\n",
            "938/938 [==============================] - 6s 6ms/step - loss: 2.3028 - accuracy: 0.0987\n",
            "Epoch 14/20\n",
            "938/938 [==============================] - 5s 5ms/step - loss: 2.3028 - accuracy: 0.0986\n",
            "Epoch 15/20\n",
            "938/938 [==============================] - 5s 5ms/step - loss: 2.3028 - accuracy: 0.0979\n",
            "Epoch 16/20\n",
            "938/938 [==============================] - 4s 5ms/step - loss: 2.3028 - accuracy: 0.0976\n",
            "Epoch 17/20\n",
            "938/938 [==============================] - 6s 6ms/step - loss: 2.3028 - accuracy: 0.0984\n",
            "Epoch 18/20\n",
            "938/938 [==============================] - 5s 5ms/step - loss: 2.3028 - accuracy: 0.0992\n",
            "Epoch 19/20\n",
            "938/938 [==============================] - 5s 5ms/step - loss: 2.3028 - accuracy: 0.0977\n",
            "Epoch 20/20\n",
            "938/938 [==============================] - 5s 5ms/step - loss: 2.3028 - accuracy: 0.1000\n"
          ]
        }
      ]
    },
    {
      "cell_type": "code",
      "source": [
        "\n",
        "eval = model.evaluate(test_X, test_Y, verbose = 0)  #verbose = 0: khong hien thi train\n",
        "print('Test loss: ', eval[0])\n",
        "print('Test accuracy: ', eval[1])"
      ],
      "metadata": {
        "colab": {
          "base_uri": "https://localhost:8080/"
        },
        "id": "IGHYVRxlxMpp",
        "outputId": "520d362c-b4c3-4043-ee3c-bd0a4fd1a2a6"
      },
      "execution_count": null,
      "outputs": [
        {
          "output_type": "stream",
          "name": "stdout",
          "text": [
            "Test loss:  2.3026163578033447\n",
            "Test accuracy:  0.10000000149011612\n"
          ]
        }
      ]
    },
    {
      "cell_type": "code",
      "source": [
        "accuracy = train.history['accuracy']\n",
        "loss = train.history['loss']\n",
        "epochs = range(len(accuracy))\n",
        "plt.plot(epochs, accuracy, 'bo', label = 'Training Accuracy')   # 'bo' la dau tron\n",
        "plt.plot(epochs, loss, 'b', label = 'Training Accuracy')\n",
        "plt.title('Training & Testing Accuracy')\n",
        "plt.legend() \n",
        "plt.show()"
      ],
      "metadata": {
        "colab": {
          "base_uri": "https://localhost:8080/",
          "height": 452
        },
        "id": "qey068dRxT7E",
        "outputId": "3b353452-0f6c-41f6-fbaa-a3a1047ef7ab"
      },
      "execution_count": null,
      "outputs": [
        {
          "output_type": "display_data",
          "data": {
            "text/plain": [
              "<Figure size 640x480 with 1 Axes>"
            ],
            "image/png": "[encoded data removed]"
          },
          "metadata": {}
        }
      ]
    },
    {
      "cell_type": "code",
      "source": [
        "\n",
        "accuracy = train.history['accuracy']\n",
        "loss = train.history['loss']\n",
        "epochs = range(len(accuracy))\n",
        "plt.plot(epochs, accuracy, 'bo', label = 'Training Accuracy')  \n",
        "plt.plot(epochs, loss, 'b', label = 'Test Accuracy')\n",
        "plt.title('Training & Testing Accuracy')\n",
        "plt.legend() \n",
        "plt.show()"
      ],
      "metadata": {
        "id": "V7KIwFqux4z3"
      },
      "execution_count": null,
      "outputs": []
    },
    {
      "cell_type": "code",
      "source": [
        "from keras.layers.core.activation import Activation\n",
        "model = Sequential()\n",
        "model.add(Conv2D(32,(3,3),padding='same',input_shape=(32, 32, 3)))\n",
        "model.add(Activation('relu'))\n",
        "model.add(Conv2D(32, (3, 3)))\n",
        "model.add(MaxPooling2D((2, 2)))\n",
        "model.add(Dropout(0,25)) # bỏ giá trị không cần thiết\n"
      ],
      "metadata": {
        "id": "VJjFYiZxx-2p"
      },
      "execution_count": null,
      "outputs": []
    },
    {
      "cell_type": "code",
      "source": [
        "model.add(Conv2D(64,(3, 3),padding='same'))\n",
        "model.add(Activation('relu'))\n",
        "model.add(Conv2D(64,(3,3 )))\n",
        "model.add(Activation('relu'))\n",
        "model.add(MaxPooling2D((2, 2)))\n",
        "model.add(Dropout(0.25))\n"
      ],
      "metadata": {
        "id": "541Kr-Alx_R8"
      },
      "execution_count": null,
      "outputs": []
    },
    {
      "cell_type": "code",
      "source": [
        "#ANN\n",
        "model.add(Flatten())\n",
        "model.add(Dense(512,activation='relu'))\n",
        "model.add(Dropout(0.5))\n",
        "model.add(Dense(10,activation='softmax'))\n",
        "\n"
      ],
      "metadata": {
        "id": "s8mI_Ws40C-U"
      },
      "execution_count": null,
      "outputs": []
    },
    {
      "cell_type": "code",
      "source": [
        "from keras.optimizers import SGD\n",
        "sgd = SGD(lr = 0.1,decay = 1e-6, momentum = 0.9, nesterov = True)\n",
        "model.compile(loss='categorical_crossentropy',optimizer= sgd,metrics = ['accuracy'])"
      ],
      "metadata": {
        "colab": {
          "base_uri": "https://localhost:8080/"
        },
        "id": "efLlH5FG0e-4",
        "outputId": "4ec4ec42-064c-4008-8475-3f063da285c2"
      },
      "execution_count": null,
      "outputs": [
        {
          "output_type": "stream",
          "name": "stderr",
          "text": [
            "/usr/local/lib/python3.9/dist-packages/keras/optimizers/legacy/gradient_descent.py:114: UserWarning: The `lr` argument is deprecated, use `learning_rate` instead.\n",
            "  super().__init__(name, **kwargs)\n"
          ]
        }
      ]
    },
    {
      "cell_type": "code",
      "source": [
        "model.save(/content/sample_data/README.md)"
      ],
      "metadata": {
        "id": "RcMlKYru6V0q"
      },
      "execution_count": null,
      "outputs": []
    },
    {
      "cell_type": "code",
      "source": [
        "from os import listdir\n",
        "from numpy import asarray ,save\n",
        "from keras.preprocessing.image import load_img_to_array\n",
        "folder =''\n",
        "photos,labels = list(),list()\n",
        "for file in listdir():\n",
        "  output=0.0\n",
        "  if file.startwith('Nguyen'):\n",
        "    output=1.0\n",
        "    if file.starswith('Hoang'):\n",
        "      output2.0\n",
        "      photo=load_img(folder+file,target_size(200,200))\n",
        "      photo=img_to_array(img)\n",
        "      photos.append(photo)\n",
        "      labels.append(output)\n",
        "      photos = asarray(photos)\n",
        "      labels =asarray(labels)\n",
        "      print(photos.shape,label.shape)\n",
        "      save('     /NguyenHoang_photo.npy',photos)\n",
        "      save('   /NguyenHoang_label.npy',labels)"
      ],
      "metadata": {
        "id": "-t56OZK68bm4"
      },
      "execution_count": null,
      "outputs": []
    }
  ]
}